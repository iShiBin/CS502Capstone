{
 "cells": [
  {
   "cell_type": "code",
   "execution_count": 23,
   "metadata": {},
   "outputs": [],
   "source": [
    "import os, sys\n",
    "import re\n",
    "\n",
    "data_dir = '../data/'\n",
    "output_file = open('all_ratings.txt', 'w')\n",
    "output_file.write('movie_id,user_id,rating,date\\n')\n",
    "\n",
    "def collect_ratings(file_name):\n",
    "    with open(file_name, 'r') as data:\n",
    "        movie_id = next(data)[:-2] #remove the /n\n",
    "        for line in data:\n",
    "            user_id, value, date = line.split(',')\n",
    "            date = date[:4]+date[5:7]+date[8:]\n",
    "            line = ','.join((movie_id,user_id,value,date))\n",
    "            output_file.write(line)\n",
    "\n",
    "file_names = [f for f in os.listdir(data_dir) if re.match(r'mv_[0-9]+.*\\.txt', f)]\n",
    "# file_names = [f for f in os.listdir(data_dir) if re.match(r'mv_000190[0-9]+.*\\.txt', f)]\n",
    "for f in file_names:\n",
    "    collect_ratings(data_dir + f)\n",
    "    \n",
    "output_file.close()"
   ]
  },
  {
   "cell_type": "code",
   "execution_count": null,
   "metadata": {},
   "outputs": [],
   "source": []
  }
 ],
 "metadata": {
  "kernelspec": {
   "display_name": "Python 3",
   "language": "python",
   "name": "python3"
  },
  "language_info": {
   "codemirror_mode": {
    "name": "ipython",
    "version": 3
   },
   "file_extension": ".py",
   "mimetype": "text/x-python",
   "name": "python",
   "nbconvert_exporter": "python",
   "pygments_lexer": "ipython3",
   "version": "3.6.3"
  }
 },
 "nbformat": 4,
 "nbformat_minor": 2
}
